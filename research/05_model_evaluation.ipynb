{
 "cells": [
  {
   "cell_type": "code",
   "execution_count": 2,
   "metadata": {},
   "outputs": [],
   "source": [
    "import os"
   ]
  },
  {
   "cell_type": "code",
   "execution_count": 3,
   "metadata": {},
   "outputs": [
    {
     "data": {
      "text/plain": [
       "'c:\\\\End To End AI Project\\\\End-to-end-Machine-Learning-project-with-mlflow\\\\research'"
      ]
     },
     "execution_count": 3,
     "metadata": {},
     "output_type": "execute_result"
    }
   ],
   "source": [
    "%pwd"
   ]
  },
  {
   "cell_type": "code",
   "execution_count": 4,
   "metadata": {},
   "outputs": [],
   "source": [
    "os.chdir(\"../\")"
   ]
  },
  {
   "cell_type": "code",
   "execution_count": 5,
   "metadata": {},
   "outputs": [
    {
     "data": {
      "text/plain": [
       "'c:\\\\End To End AI Project\\\\End-to-end-Machine-Learning-project-with-mlflow'"
      ]
     },
     "execution_count": 5,
     "metadata": {},
     "output_type": "execute_result"
    }
   ],
   "source": [
    "%pwd"
   ]
  },
  {
   "cell_type": "code",
   "execution_count": 1,
   "metadata": {},
   "outputs": [
    {
     "ename": "NameError",
     "evalue": "name 'os' is not defined",
     "output_type": "error",
     "traceback": [
      "\u001b[1;31m---------------------------------------------------------------------------\u001b[0m",
      "\u001b[1;31mNameError\u001b[0m                                 Traceback (most recent call last)",
      "Cell \u001b[1;32mIn[1], line 1\u001b[0m\n\u001b[1;32m----> 1\u001b[0m os\u001b[38;5;241m.\u001b[39menviron[\u001b[38;5;124m\"\u001b[39m\u001b[38;5;124mMLFLOW_TRACKING_URI\u001b[39m\u001b[38;5;124m\"\u001b[39m]\u001b[38;5;241m=\u001b[39m\u001b[38;5;124m\"\u001b[39m\u001b[38;5;124mhttps://dagshub.com/arsalanazhar2003/End-to-End-diabetes-prediction-project.mlflow\u001b[39m\u001b[38;5;124m\"\u001b[39m\n\u001b[0;32m      2\u001b[0m os\u001b[38;5;241m.\u001b[39menviron[\u001b[38;5;124m\"\u001b[39m\u001b[38;5;124mMLFLOW_TRACKING_USERNAME\u001b[39m\u001b[38;5;124m\"\u001b[39m]\u001b[38;5;241m=\u001b[39m\u001b[38;5;124m\"\u001b[39m\u001b[38;5;124marsalanazhar2003\u001b[39m\u001b[38;5;124m\"\u001b[39m\n\u001b[0;32m      3\u001b[0m os\u001b[38;5;241m.\u001b[39menviron[\u001b[38;5;124m\"\u001b[39m\u001b[38;5;124mMLFLOW_TRACKING_PASSWORD\u001b[39m\u001b[38;5;124m\"\u001b[39m]\u001b[38;5;241m=\u001b[39m \u001b[38;5;124m\"\u001b[39m\u001b[38;5;124mddbdda8eff3c518a6b060fc3d7a9cd36bc8c292d\u001b[39m\u001b[38;5;124m\"\u001b[39m\n",
      "\u001b[1;31mNameError\u001b[0m: name 'os' is not defined"
     ]
    }
   ],
   "source": [
    "'''\n",
    "os.environ[\"MLFLOW_TRACKING_URI\"]=\"https://dagshub.com/entbappy/End-to-end-Machine-Learning-Project-with-MLflow.mlflow\"\n",
    "os.environ[\"MLFLOW_TRACKING_USERNAME\"]=\"entbappy\"\n",
    "os.environ[\"MLFLOW_TRACKING_PASSWORD\"]=\"6824692c47a369aa6f9eac5b10041d5c8edbcef0\"\n",
    "'''\n",
    "os.environ[\"MLFLOW_TRACKING_URI\"]=\"https://dagshub.com/arsalanazhar2003/End-to-end-Machine-Learning-project-with-mlflow.mlflow\"\n",
    "os.environ[\"MLFLOW_TRACKING_USERNAME\"]=\"arsalanazhar2003\"\n",
    "os.environ[\"MLFLOW_TRACKING_PASSWORD\"]= \"ddbdda8eff3c518a6b060fc3d7a9cd36bc8c292d\"\n"
   ]
  },
  {
   "cell_type": "code",
   "execution_count": 7,
   "metadata": {},
   "outputs": [],
   "source": [
    "from dataclasses import dataclass\n",
    "from pathlib import Path\n",
    "\n",
    "\n",
    "@dataclass(frozen=True)\n",
    "class ModelEvaluationConfig:\n",
    "    root_dir: Path\n",
    "    test_data_path: Path\n",
    "    model_path: Path\n",
    "    all_params: dict\n",
    "    metric_file_name: Path\n",
    "    target_column: str\n",
    "    mlflow_uri: str\n"
   ]
  },
  {
   "cell_type": "code",
   "execution_count": 8,
   "metadata": {},
   "outputs": [],
   "source": [
    "from mlProject.constants import *\n",
    "from mlProject.utils.common import read_yaml, create_directories, save_json"
   ]
  },
  {
   "cell_type": "code",
   "execution_count": 9,
   "metadata": {},
   "outputs": [],
   "source": [
    "class ConfigurationManager:\n",
    "    def __init__(\n",
    "        self,\n",
    "        config_filepath = CONFIG_FILE_PATH,\n",
    "        params_filepath = PARAMS_FILE_PATH,\n",
    "        schema_filepath = SCHEMA_FILE_PATH):\n",
    "\n",
    "        self.config = read_yaml(config_filepath)\n",
    "        self.params = read_yaml(params_filepath)\n",
    "        self.schema = read_yaml(schema_filepath)\n",
    "\n",
    "        create_directories([self.config.artifacts_root])\n",
    "\n",
    "    \n",
    "    def get_model_evaluation_config(self) -> ModelEvaluationConfig:\n",
    "        config = self.config.model_evaluation\n",
    "        params = self.params.ElasticNet\n",
    "        schema =  self.schema.TARGET_COLUMN\n",
    "\n",
    "        create_directories([config.root_dir])\n",
    "\n",
    "        model_evaluation_config = ModelEvaluationConfig(\n",
    "            root_dir=config.root_dir,\n",
    "            test_data_path=config.test_data_path,\n",
    "            model_path = config.model_path,\n",
    "            all_params=params,\n",
    "            metric_file_name = config.metric_file_name,\n",
    "            target_column = schema.name,\n",
    "            mlflow_uri=\"https://dagshub.com/arsalanazhar2003/End-to-end-Machine-Learning-project-with-mlflow.mlflow\",\n",
    "           \n",
    "        )\n",
    " \n",
    "        return model_evaluation_config\n"
   ]
  },
  {
   "cell_type": "code",
   "execution_count": 10,
   "metadata": {},
   "outputs": [],
   "source": [
    "import os\n",
    "import pandas as pd\n",
    "from sklearn.metrics import mean_squared_error, mean_absolute_error, r2_score\n",
    "from urllib.parse import urlparse\n",
    "import mlflow\n",
    "import mlflow.sklearn\n",
    "import numpy as np\n",
    "import joblib"
   ]
  },
  {
   "cell_type": "code",
   "execution_count": 11,
   "metadata": {},
   "outputs": [],
   "source": [
    "class ModelEvaluation:\n",
    "    def __init__(self, config: ModelEvaluationConfig):\n",
    "        self.config = config\n",
    "\n",
    "    \n",
    "    def eval_metrics(self,actual, pred):\n",
    "        rmse = np.sqrt(mean_squared_error(actual, pred))\n",
    "        mae = mean_absolute_error(actual, pred)\n",
    "        r2 = r2_score(actual, pred)\n",
    "        return rmse, mae, r2\n",
    "    \n",
    "\n",
    "\n",
    "    def log_into_mlflow(self):\n",
    "\n",
    "        test_data = pd.read_csv(self.config.test_data_path)\n",
    "        model = joblib.load(self.config.model_path)\n",
    "\n",
    "        test_x = test_data.drop([self.config.target_column], axis=1)\n",
    "        test_y = test_data[[self.config.target_column]]\n",
    "\n",
    "\n",
    "        mlflow.set_registry_uri(self.config.mlflow_uri)\n",
    "        tracking_url_type_store = urlparse(mlflow.get_tracking_uri()).scheme\n",
    "\n",
    "\n",
    "        with mlflow.start_run():\n",
    "\n",
    "            predicted_qualities = model.predict(test_x)\n",
    "\n",
    "            (rmse, mae, r2) = self.eval_metrics(test_y, predicted_qualities)\n",
    "            \n",
    "            # Saving metrics as local\n",
    "            scores = {\"rmse\": rmse, \"mae\": mae, \"r2\": r2}\n",
    "            save_json(path=Path(self.config.metric_file_name), data=scores)\n",
    "\n",
    "            mlflow.log_params(self.config.all_params)\n",
    "\n",
    "            mlflow.log_metric(\"rmse\", rmse)\n",
    "            mlflow.log_metric(\"r2\", r2)\n",
    "            mlflow.log_metric(\"mae\", mae)\n",
    "\n",
    "\n",
    "            # Model registry does not work with file store\n",
    "            if tracking_url_type_store != \"file\":\n",
    "\n",
    "                # Register the model\n",
    "                # There are other ways to use the Model Registry, which depends on the use case,\n",
    "                # please refer to the doc for more information:\n",
    "                # https://mlflow.org/docs/latest/model-registry.html#api-workflow\n",
    "                mlflow.sklearn.log_model(model, \"model\", registered_model_name=\"ElasticnetModel\")\n",
    "            else:\n",
    "                mlflow.sklearn.log_model(model, \"model\")\n",
    "\n",
    "    \n"
   ]
  },
  {
   "cell_type": "code",
   "execution_count": 16,
   "metadata": {},
   "outputs": [
    {
     "name": "stdout",
     "output_type": "stream",
     "text": [
      "[2024-08-18 10:27:55,560: INFO: common: yaml file: config\\config.yaml loaded successfully]\n",
      "[2024-08-18 10:27:55,569: INFO: common: yaml file: params.yaml loaded successfully]\n",
      "[2024-08-18 10:27:55,581: INFO: common: yaml file: schema.yaml loaded successfully]\n",
      "[2024-08-18 10:27:55,591: INFO: common: created directory at: artifacts]\n",
      "[2024-08-18 10:27:55,598: INFO: common: created directory at: artifacts/model_evaluation]\n",
      "[2024-08-18 10:27:56,400: INFO: common: json file saved at: artifacts\\model_evaluation\\metrics.json]\n"
     ]
    },
    {
     "name": "stderr",
     "output_type": "stream",
     "text": [
      "Registered model 'ElasticnetModel' already exists. Creating a new version of this model...\n",
      "2024/08/18 10:28:16 INFO mlflow.tracking._model_registry.client: Waiting up to 300 seconds for model version to finish creation.                     Model name: ElasticnetModel, version 3\n",
      "Created version '3' of model 'ElasticnetModel'.\n"
     ]
    }
   ],
   "source": [
    "try:\n",
    "    config = ConfigurationManager()\n",
    "    model_evaluation_config = config.get_model_evaluation_config()\n",
    "    model_evaluation_config = ModelEvaluation(config=model_evaluation_config)\n",
    "    model_evaluation_config.log_into_mlflow()\n",
    "except Exception as e:\n",
    "    raise e"
   ]
  },
  {
   "cell_type": "code",
   "execution_count": 14,
   "metadata": {},
   "outputs": [
    {
     "name": "stdout",
     "output_type": "stream",
     "text": [
      "Collecting dagshub\n",
      "  Downloading dagshub-0.3.34-py3-none-any.whl.metadata (11 kB)\n",
      "Requirement already satisfied: PyYAML>=5 in c:\\end to end ai project\\end-to-end-machine-learning-project-with-mlflow\\.conda\\lib\\site-packages (from dagshub) (6.0.2)\n",
      "Collecting fusepy>=3 (from dagshub)\n",
      "  Downloading fusepy-3.0.1.tar.gz (11 kB)\n",
      "  Preparing metadata (setup.py): started\n",
      "  Preparing metadata (setup.py): finished with status 'done'\n",
      "Collecting appdirs>=1.4.4 (from dagshub)\n",
      "  Downloading appdirs-1.4.4-py2.py3-none-any.whl.metadata (9.0 kB)\n",
      "Requirement already satisfied: click>=8.0.4 in c:\\end to end ai project\\end-to-end-machine-learning-project-with-mlflow\\.conda\\lib\\site-packages (from dagshub) (8.1.7)\n",
      "Collecting httpx~=0.23.0 (from dagshub)\n",
      "  Downloading httpx-0.23.3-py3-none-any.whl.metadata (7.1 kB)\n",
      "Requirement already satisfied: GitPython>=3.1.29 in c:\\end to end ai project\\end-to-end-machine-learning-project-with-mlflow\\.conda\\lib\\site-packages (from dagshub) (3.1.43)\n",
      "Collecting rich~=13.1.0 (from dagshub)\n",
      "  Downloading rich-13.1.0-py3-none-any.whl.metadata (18 kB)\n",
      "Collecting dacite~=1.6.0 (from dagshub)\n",
      "  Downloading dacite-1.6.0-py3-none-any.whl.metadata (14 kB)\n",
      "Collecting tenacity~=8.2.2 (from dagshub)\n",
      "  Using cached tenacity-8.2.3-py3-none-any.whl.metadata (1.0 kB)\n",
      "Collecting gql[requests] (from dagshub)\n",
      "  Downloading gql-3.5.0-py2.py3-none-any.whl.metadata (9.2 kB)\n",
      "Collecting dataclasses-json (from dagshub)\n",
      "  Downloading dataclasses_json-0.6.7-py3-none-any.whl.metadata (25 kB)\n",
      "Requirement already satisfied: pandas in c:\\end to end ai project\\end-to-end-machine-learning-project-with-mlflow\\.conda\\lib\\site-packages (from dagshub) (2.2.2)\n",
      "Collecting treelib~=1.6.4 (from dagshub)\n",
      "  Downloading treelib-1.6.4-py3-none-any.whl.metadata (1.4 kB)\n",
      "Collecting pathvalidate~=3.0.0 (from dagshub)\n",
      "  Downloading pathvalidate-3.0.0-py3-none-any.whl.metadata (11 kB)\n",
      "Requirement already satisfied: python-dateutil in c:\\end to end ai project\\end-to-end-machine-learning-project-with-mlflow\\.conda\\lib\\site-packages (from dagshub) (2.9.0.post0)\n",
      "Collecting boto3 (from dagshub)\n",
      "  Downloading boto3-1.35.0-py3-none-any.whl.metadata (6.6 kB)\n",
      "Requirement already satisfied: colorama in c:\\end to end ai project\\end-to-end-machine-learning-project-with-mlflow\\.conda\\lib\\site-packages (from click>=8.0.4->dagshub) (0.4.6)\n",
      "Requirement already satisfied: gitdb<5,>=4.0.1 in c:\\end to end ai project\\end-to-end-machine-learning-project-with-mlflow\\.conda\\lib\\site-packages (from GitPython>=3.1.29->dagshub) (4.0.11)\n",
      "Requirement already satisfied: certifi in c:\\end to end ai project\\end-to-end-machine-learning-project-with-mlflow\\.conda\\lib\\site-packages (from httpx~=0.23.0->dagshub) (2024.7.4)\n",
      "Collecting httpcore<0.17.0,>=0.15.0 (from httpx~=0.23.0->dagshub)\n",
      "  Downloading httpcore-0.16.3-py3-none-any.whl.metadata (16 kB)\n",
      "Collecting rfc3986<2,>=1.3 (from rfc3986[idna2008]<2,>=1.3->httpx~=0.23.0->dagshub)\n",
      "  Downloading rfc3986-1.5.0-py2.py3-none-any.whl.metadata (6.5 kB)\n",
      "Requirement already satisfied: sniffio in c:\\end to end ai project\\end-to-end-machine-learning-project-with-mlflow\\.conda\\lib\\site-packages (from httpx~=0.23.0->dagshub) (1.3.1)\n",
      "Collecting commonmark<0.10.0,>=0.9.0 (from rich~=13.1.0->dagshub)\n",
      "  Downloading commonmark-0.9.1-py2.py3-none-any.whl.metadata (5.7 kB)\n",
      "Requirement already satisfied: pygments<3.0.0,>=2.6.0 in c:\\end to end ai project\\end-to-end-machine-learning-project-with-mlflow\\.conda\\lib\\site-packages (from rich~=13.1.0->dagshub) (2.15.1)\n",
      "Requirement already satisfied: six in c:\\end to end ai project\\end-to-end-machine-learning-project-with-mlflow\\.conda\\lib\\site-packages (from treelib~=1.6.4->dagshub) (1.16.0)\n",
      "Collecting botocore<1.36.0,>=1.35.0 (from boto3->dagshub)\n",
      "  Downloading botocore-1.35.0-py3-none-any.whl.metadata (5.7 kB)\n",
      "Collecting jmespath<2.0.0,>=0.7.1 (from boto3->dagshub)\n",
      "  Downloading jmespath-1.0.1-py3-none-any.whl.metadata (7.6 kB)\n",
      "Collecting s3transfer<0.11.0,>=0.10.0 (from boto3->dagshub)\n",
      "  Downloading s3transfer-0.10.2-py3-none-any.whl.metadata (1.7 kB)\n",
      "Collecting marshmallow<4.0.0,>=3.18.0 (from dataclasses-json->dagshub)\n",
      "  Downloading marshmallow-3.21.3-py3-none-any.whl.metadata (7.1 kB)\n",
      "Collecting typing-inspect<1,>=0.4.0 (from dataclasses-json->dagshub)\n",
      "  Downloading typing_inspect-0.9.0-py3-none-any.whl.metadata (1.5 kB)\n",
      "Collecting graphql-core<3.3,>=3.2 (from gql[requests]->dagshub)\n",
      "  Using cached graphql_core-3.2.3-py3-none-any.whl.metadata (10 kB)\n",
      "Collecting yarl<2.0,>=1.6 (from gql[requests]->dagshub)\n",
      "  Downloading yarl-1.9.4-cp311-cp311-win_amd64.whl.metadata (32 kB)\n",
      "Collecting backoff<3.0,>=1.11.1 (from gql[requests]->dagshub)\n",
      "  Downloading backoff-2.2.1-py3-none-any.whl.metadata (14 kB)\n",
      "Requirement already satisfied: anyio<5,>=3.0 in c:\\end to end ai project\\end-to-end-machine-learning-project-with-mlflow\\.conda\\lib\\site-packages (from gql[requests]->dagshub) (4.4.0)\n",
      "Requirement already satisfied: requests<3,>=2.26 in c:\\end to end ai project\\end-to-end-machine-learning-project-with-mlflow\\.conda\\lib\\site-packages (from gql[requests]->dagshub) (2.32.3)\n",
      "Collecting requests-toolbelt<2,>=1.0.0 (from gql[requests]->dagshub)\n",
      "  Downloading requests_toolbelt-1.0.0-py2.py3-none-any.whl.metadata (14 kB)\n",
      "Requirement already satisfied: numpy>=1.23.2 in c:\\end to end ai project\\end-to-end-machine-learning-project-with-mlflow\\.conda\\lib\\site-packages (from pandas->dagshub) (1.26.4)\n",
      "Requirement already satisfied: pytz>=2020.1 in c:\\end to end ai project\\end-to-end-machine-learning-project-with-mlflow\\.conda\\lib\\site-packages (from pandas->dagshub) (2022.7.1)\n",
      "Requirement already satisfied: tzdata>=2022.7 in c:\\end to end ai project\\end-to-end-machine-learning-project-with-mlflow\\.conda\\lib\\site-packages (from pandas->dagshub) (2024.1)\n",
      "Requirement already satisfied: idna>=2.8 in c:\\end to end ai project\\end-to-end-machine-learning-project-with-mlflow\\.conda\\lib\\site-packages (from anyio<5,>=3.0->gql[requests]->dagshub) (3.7)\n",
      "Requirement already satisfied: urllib3!=2.2.0,<3,>=1.25.4 in c:\\end to end ai project\\end-to-end-machine-learning-project-with-mlflow\\.conda\\lib\\site-packages (from botocore<1.36.0,>=1.35.0->boto3->dagshub) (2.2.2)\n",
      "Requirement already satisfied: smmap<6,>=3.0.1 in c:\\end to end ai project\\end-to-end-machine-learning-project-with-mlflow\\.conda\\lib\\site-packages (from gitdb<5,>=4.0.1->GitPython>=3.1.29->dagshub) (5.0.1)\n",
      "Requirement already satisfied: h11<0.15,>=0.13 in c:\\end to end ai project\\end-to-end-machine-learning-project-with-mlflow\\.conda\\lib\\site-packages (from httpcore<0.17.0,>=0.15.0->httpx~=0.23.0->dagshub) (0.14.0)\n",
      "Requirement already satisfied: packaging>=17.0 in c:\\end to end ai project\\end-to-end-machine-learning-project-with-mlflow\\.conda\\lib\\site-packages (from marshmallow<4.0.0,>=3.18.0->dataclasses-json->dagshub) (23.2)\n",
      "Requirement already satisfied: charset-normalizer<4,>=2 in c:\\end to end ai project\\end-to-end-machine-learning-project-with-mlflow\\.conda\\lib\\site-packages (from requests<3,>=2.26->gql[requests]->dagshub) (3.3.2)\n",
      "Collecting mypy-extensions>=0.3.0 (from typing-inspect<1,>=0.4.0->dataclasses-json->dagshub)\n",
      "  Using cached mypy_extensions-1.0.0-py3-none-any.whl.metadata (1.1 kB)\n",
      "Requirement already satisfied: typing-extensions>=3.7.4 in c:\\end to end ai project\\end-to-end-machine-learning-project-with-mlflow\\.conda\\lib\\site-packages (from typing-inspect<1,>=0.4.0->dataclasses-json->dagshub) (4.11.0)\n",
      "Collecting multidict>=4.0 (from yarl<2.0,>=1.6->gql[requests]->dagshub)\n",
      "  Downloading multidict-6.0.5-cp311-cp311-win_amd64.whl.metadata (4.3 kB)\n",
      "Downloading dagshub-0.3.34-py3-none-any.whl (236 kB)\n",
      "   ---------------------------------------- 0.0/236.6 kB ? eta -:--:--\n",
      "   ------ --------------------------------- 41.0/236.6 kB 1.9 MB/s eta 0:00:01\n",
      "   ------ --------------------------------- 41.0/236.6 kB 1.9 MB/s eta 0:00:01\n",
      "   ------ --------------------------------- 41.0/236.6 kB 1.9 MB/s eta 0:00:01\n",
      "   ------ --------------------------------- 41.0/236.6 kB 1.9 MB/s eta 0:00:01\n",
      "   ------ --------------------------------- 41.0/236.6 kB 1.9 MB/s eta 0:00:01\n",
      "   ------ --------------------------------- 41.0/236.6 kB 1.9 MB/s eta 0:00:01\n",
      "   ------------------- ------------------ 122.9/236.6 kB 288.1 kB/s eta 0:00:01\n",
      "   ------------------- ------------------ 122.9/236.6 kB 288.1 kB/s eta 0:00:01\n",
      "   ------------------- ------------------ 122.9/236.6 kB 288.1 kB/s eta 0:00:01\n",
      "   ------------------- ------------------ 122.9/236.6 kB 288.1 kB/s eta 0:00:01\n",
      "   ------------------- ------------------ 122.9/236.6 kB 288.1 kB/s eta 0:00:01\n",
      "   ------------------- ------------------ 122.9/236.6 kB 288.1 kB/s eta 0:00:01\n",
      "   ------------------- ------------------ 122.9/236.6 kB 288.1 kB/s eta 0:00:01\n",
      "   ------------------- ------------------ 122.9/236.6 kB 288.1 kB/s eta 0:00:01\n",
      "   ------------------- ------------------ 122.9/236.6 kB 288.1 kB/s eta 0:00:01\n",
      "   ----------------------------- -------- 184.3/236.6 kB 174.1 kB/s eta 0:00:01\n",
      "   ----------------------------- -------- 184.3/236.6 kB 174.1 kB/s eta 0:00:01\n",
      "   ----------------------------- -------- 184.3/236.6 kB 174.1 kB/s eta 0:00:01\n",
      "   ----------------------------- -------- 184.3/236.6 kB 174.1 kB/s eta 0:00:01\n",
      "   ----------------------------- -------- 184.3/236.6 kB 174.1 kB/s eta 0:00:01\n",
      "   ----------------------------- -------- 184.3/236.6 kB 174.1 kB/s eta 0:00:01\n",
      "   ----------------------------- -------- 184.3/236.6 kB 174.1 kB/s eta 0:00:01\n",
      "   ----------------------------- -------- 184.3/236.6 kB 174.1 kB/s eta 0:00:01\n",
      "   ----------------------------- -------- 184.3/236.6 kB 174.1 kB/s eta 0:00:01\n",
      "   ----------------------------- -------- 184.3/236.6 kB 174.1 kB/s eta 0:00:01\n",
      "   -------------------------------------  235.5/236.6 kB 139.9 kB/s eta 0:00:01\n",
      "   -------------------------------------- 236.6/236.6 kB 136.6 kB/s eta 0:00:00\n",
      "Downloading appdirs-1.4.4-py2.py3-none-any.whl (9.6 kB)\n",
      "Downloading dacite-1.6.0-py3-none-any.whl (12 kB)\n",
      "Downloading httpx-0.23.3-py3-none-any.whl (71 kB)\n",
      "   ---------------------------------------- 0.0/71.5 kB ? eta -:--:--\n",
      "   ---------------------------------- ----- 61.4/71.5 kB ? eta -:--:--\n",
      "   ---------------------------------------- 71.5/71.5 kB 987.6 kB/s eta 0:00:00\n",
      "Downloading pathvalidate-3.0.0-py3-none-any.whl (21 kB)\n",
      "Downloading rich-13.1.0-py3-none-any.whl (238 kB)\n",
      "   ---------------------------------------- 0.0/238.4 kB ? eta -:--:--\n",
      "   -------------------- ------------------- 122.9/238.4 kB ? eta -:--:--\n",
      "   -------------------- ------------------- 122.9/238.4 kB ? eta -:--:--\n",
      "   -------------------- ------------------- 122.9/238.4 kB ? eta -:--:--\n",
      "   -------------------- ------------------- 122.9/238.4 kB ? eta -:--:--\n",
      "   -------------------- ------------------- 122.9/238.4 kB ? eta -:--:--\n",
      "   -------------------- ------------------- 122.9/238.4 kB ? eta -:--:--\n",
      "   -------------------- ------------------- 122.9/238.4 kB ? eta -:--:--\n",
      "   -------------------- ------------------- 122.9/238.4 kB ? eta -:--:--\n",
      "   -------------------- ------------------- 122.9/238.4 kB ? eta -:--:--\n",
      "   -------------------- ------------------- 122.9/238.4 kB ? eta -:--:--\n",
      "   -------------------- ------------------- 122.9/238.4 kB ? eta -:--:--\n",
      "   -------------------- ------------------- 122.9/238.4 kB ? eta -:--:--\n",
      "   -------------------- ------------------- 122.9/238.4 kB ? eta -:--:--\n",
      "   -------------------- ------------------- 122.9/238.4 kB ? eta -:--:--\n",
      "   -------------------- ------------------- 122.9/238.4 kB ? eta -:--:--\n",
      "   -------------------- ------------------- 122.9/238.4 kB ? eta -:--:--\n",
      "   -------------------- ------------------- 122.9/238.4 kB ? eta -:--:--\n",
      "   -------------------- ------------------- 122.9/238.4 kB ? eta -:--:--\n",
      "   -------------------- ------------------- 122.9/238.4 kB ? eta -:--:--\n",
      "   -------------------- ------------------- 122.9/238.4 kB ? eta -:--:--\n",
      "   -------------------------------------- 238.4/238.4 kB 189.6 kB/s eta 0:00:00\n",
      "Using cached tenacity-8.2.3-py3-none-any.whl (24 kB)\n",
      "Downloading treelib-1.6.4-py3-none-any.whl (18 kB)\n",
      "Downloading boto3-1.35.0-py3-none-any.whl (139 kB)\n",
      "   ---------------------------------------- 0.0/139.1 kB ? eta -:--:--\n",
      "   -------------------------- ------------- 92.2/139.1 kB 5.5 MB/s eta 0:00:01\n",
      "   -------------------------------- ------- 112.6/139.1 kB 2.2 MB/s eta 0:00:01\n",
      "   ------------------------------------ - 133.1/139.1 kB 877.7 kB/s eta 0:00:01\n",
      "   -------------------------------------- 139.1/139.1 kB 749.4 kB/s eta 0:00:00\n",
      "Downloading dataclasses_json-0.6.7-py3-none-any.whl (28 kB)\n",
      "Downloading backoff-2.2.1-py3-none-any.whl (15 kB)\n",
      "Downloading botocore-1.35.0-py3-none-any.whl (12.5 MB)\n",
      "   ---------------------------------------- 0.0/12.5 MB ? eta -:--:--\n",
      "   ---------------------------------------- 0.1/12.5 MB ? eta -:--:--\n",
      "   ---------------------------------------- 0.1/12.5 MB 1.3 MB/s eta 0:00:10\n",
      "   ---------------------------------------- 0.1/12.5 MB 901.1 kB/s eta 0:00:14\n",
      "   ---------------------------------------- 0.1/12.5 MB 901.1 kB/s eta 0:00:14\n",
      "   ---------------------------------------- 0.1/12.5 MB 901.1 kB/s eta 0:00:14\n",
      "   ---------------------------------------- 0.1/12.5 MB 901.1 kB/s eta 0:00:14\n",
      "   ---------------------------------------- 0.1/12.5 MB 901.1 kB/s eta 0:00:14\n",
      "    --------------------------------------- 0.2/12.5 MB 444.2 kB/s eta 0:00:28\n",
      "    --------------------------------------- 0.2/12.5 MB 458.5 kB/s eta 0:00:27\n",
      "    --------------------------------------- 0.3/12.5 MB 481.2 kB/s eta 0:00:26\n",
      "    --------------------------------------- 0.3/12.5 MB 491.1 kB/s eta 0:00:25\n",
      "    --------------------------------------- 0.3/12.5 MB 491.1 kB/s eta 0:00:25\n",
      "    --------------------------------------- 0.3/12.5 MB 416.7 kB/s eta 0:00:30\n",
      "   - -------------------------------------- 0.3/12.5 MB 423.3 kB/s eta 0:00:29\n",
      "   - -------------------------------------- 0.4/12.5 MB 449.7 kB/s eta 0:00:27\n",
      "   - -------------------------------------- 0.4/12.5 MB 421.3 kB/s eta 0:00:29\n",
      "   - -------------------------------------- 0.4/12.5 MB 429.0 kB/s eta 0:00:29\n",
      "   - -------------------------------------- 0.4/12.5 MB 429.0 kB/s eta 0:00:29\n",
      "   - -------------------------------------- 0.4/12.5 MB 426.2 kB/s eta 0:00:29\n",
      "   - -------------------------------------- 0.5/12.5 MB 449.3 kB/s eta 0:00:27\n",
      "   - -------------------------------------- 0.5/12.5 MB 461.3 kB/s eta 0:00:26\n",
      "   - -------------------------------------- 0.5/12.5 MB 460.2 kB/s eta 0:00:26\n",
      "   - -------------------------------------- 0.6/12.5 MB 445.2 kB/s eta 0:00:27\n",
      "   - -------------------------------------- 0.6/12.5 MB 445.2 kB/s eta 0:00:27\n",
      "   - -------------------------------------- 0.6/12.5 MB 431.9 kB/s eta 0:00:28\n",
      "   -- ------------------------------------- 0.6/12.5 MB 432.1 kB/s eta 0:00:28\n",
      "   -- ------------------------------------- 0.7/12.5 MB 439.2 kB/s eta 0:00:27\n",
      "   -- ------------------------------------- 0.7/12.5 MB 441.1 kB/s eta 0:00:27\n",
      "   -- ------------------------------------- 0.7/12.5 MB 445.2 kB/s eta 0:00:27\n",
      "   -- ------------------------------------- 0.7/12.5 MB 444.9 kB/s eta 0:00:27\n",
      "   -- ------------------------------------- 0.8/12.5 MB 454.5 kB/s eta 0:00:26\n",
      "   -- ------------------------------------- 0.8/12.5 MB 455.9 kB/s eta 0:00:26\n",
      "   -- ------------------------------------- 0.9/12.5 MB 465.7 kB/s eta 0:00:25\n",
      "   -- ------------------------------------- 0.9/12.5 MB 470.3 kB/s eta 0:00:25\n",
      "   --- ------------------------------------ 0.9/12.5 MB 462.2 kB/s eta 0:00:25\n",
      "   --- ------------------------------------ 1.0/12.5 MB 472.8 kB/s eta 0:00:25\n",
      "   --- ------------------------------------ 1.0/12.5 MB 468.7 kB/s eta 0:00:25\n",
      "   --- ------------------------------------ 1.1/12.5 MB 478.5 kB/s eta 0:00:24\n",
      "   --- ------------------------------------ 1.1/12.5 MB 482.4 kB/s eta 0:00:24\n",
      "   --- ------------------------------------ 1.1/12.5 MB 481.6 kB/s eta 0:00:24\n",
      "   --- ------------------------------------ 1.2/12.5 MB 490.4 kB/s eta 0:00:23\n",
      "   --- ------------------------------------ 1.2/12.5 MB 493.5 kB/s eta 0:00:23\n",
      "   ---- ----------------------------------- 1.2/12.5 MB 492.5 kB/s eta 0:00:23\n",
      "   ---- ----------------------------------- 1.3/12.5 MB 492.3 kB/s eta 0:00:23\n",
      "   ---- ----------------------------------- 1.4/12.5 MB 502.9 kB/s eta 0:00:23\n",
      "   ---- ----------------------------------- 1.4/12.5 MB 510.9 kB/s eta 0:00:22\n",
      "   ---- ----------------------------------- 1.4/12.5 MB 512.5 kB/s eta 0:00:22\n",
      "   ---- ----------------------------------- 1.5/12.5 MB 509.3 kB/s eta 0:00:22\n",
      "   ---- ----------------------------------- 1.5/12.5 MB 509.6 kB/s eta 0:00:22\n",
      "   ----- ---------------------------------- 1.6/12.5 MB 517.5 kB/s eta 0:00:22\n",
      "   ----- ---------------------------------- 1.6/12.5 MB 523.5 kB/s eta 0:00:21\n",
      "   ----- ---------------------------------- 1.6/12.5 MB 519.0 kB/s eta 0:00:21\n",
      "   ----- ---------------------------------- 1.7/12.5 MB 523.0 kB/s eta 0:00:21\n",
      "   ----- ---------------------------------- 1.8/12.5 MB 528.0 kB/s eta 0:00:21\n",
      "   ----- ---------------------------------- 1.8/12.5 MB 527.2 kB/s eta 0:00:21\n",
      "   ----- ---------------------------------- 1.8/12.5 MB 535.6 kB/s eta 0:00:20\n",
      "   ------ --------------------------------- 1.9/12.5 MB 540.6 kB/s eta 0:00:20\n",
      "   ------ --------------------------------- 1.9/12.5 MB 536.4 kB/s eta 0:00:20\n",
      "   ------ --------------------------------- 1.9/12.5 MB 540.8 kB/s eta 0:00:20\n",
      "   ------ --------------------------------- 2.0/12.5 MB 543.8 kB/s eta 0:00:20\n",
      "   ------ --------------------------------- 2.1/12.5 MB 548.9 kB/s eta 0:00:19\n",
      "   ------ --------------------------------- 2.1/12.5 MB 555.6 kB/s eta 0:00:19\n",
      "   ------ --------------------------------- 2.1/12.5 MB 556.3 kB/s eta 0:00:19\n",
      "   ------ --------------------------------- 2.2/12.5 MB 550.0 kB/s eta 0:00:19\n",
      "   ------- -------------------------------- 2.2/12.5 MB 556.5 kB/s eta 0:00:19\n",
      "   ------- -------------------------------- 2.3/12.5 MB 565.8 kB/s eta 0:00:19\n",
      "   ------- -------------------------------- 2.3/12.5 MB 567.1 kB/s eta 0:00:18\n",
      "   ------- -------------------------------- 2.4/12.5 MB 574.0 kB/s eta 0:00:18\n",
      "   ------- -------------------------------- 2.4/12.5 MB 574.0 kB/s eta 0:00:18\n",
      "   ------- -------------------------------- 2.4/12.5 MB 566.2 kB/s eta 0:00:18\n",
      "   ------- -------------------------------- 2.5/12.5 MB 574.3 kB/s eta 0:00:18\n",
      "   -------- ------------------------------- 2.5/12.5 MB 574.8 kB/s eta 0:00:18\n",
      "   -------- ------------------------------- 2.5/12.5 MB 574.8 kB/s eta 0:00:18\n",
      "   -------- ------------------------------- 2.7/12.5 MB 593.9 kB/s eta 0:00:17\n",
      "   -------- ------------------------------- 2.7/12.5 MB 590.0 kB/s eta 0:00:17\n",
      "   -------- ------------------------------- 2.7/12.5 MB 593.1 kB/s eta 0:00:17\n",
      "   -------- ------------------------------- 2.8/12.5 MB 600.1 kB/s eta 0:00:17\n",
      "   -------- ------------------------------- 2.8/12.5 MB 600.1 kB/s eta 0:00:17\n",
      "   -------- ------------------------------- 2.8/12.5 MB 600.1 kB/s eta 0:00:17\n",
      "   -------- ------------------------------- 2.8/12.5 MB 600.1 kB/s eta 0:00:17\n",
      "   --------- ------------------------------ 2.8/12.5 MB 579.9 kB/s eta 0:00:17\n",
      "   --------- ------------------------------ 2.9/12.5 MB 580.8 kB/s eta 0:00:17\n",
      "   --------- ------------------------------ 3.0/12.5 MB 604.3 kB/s eta 0:00:16\n",
      "   --------- ------------------------------ 3.1/12.5 MB 610.7 kB/s eta 0:00:16\n",
      "   --------- ------------------------------ 3.1/12.5 MB 605.4 kB/s eta 0:00:16\n",
      "   --------- ------------------------------ 3.1/12.5 MB 605.4 kB/s eta 0:00:16\n",
      "   ---------- ----------------------------- 3.2/12.5 MB 600.7 kB/s eta 0:00:16\n",
      "   ---------- ----------------------------- 3.2/12.5 MB 607.0 kB/s eta 0:00:16\n",
      "   ---------- ----------------------------- 3.3/12.5 MB 613.3 kB/s eta 0:00:15\n",
      "   ---------- ----------------------------- 3.4/12.5 MB 623.2 kB/s eta 0:00:15\n",
      "   ----------- ---------------------------- 3.5/12.5 MB 629.3 kB/s eta 0:00:15\n",
      "   ----------- ---------------------------- 3.5/12.5 MB 627.7 kB/s eta 0:00:15\n",
      "   ----------- ---------------------------- 3.5/12.5 MB 633.2 kB/s eta 0:00:15\n",
      "   ----------- ---------------------------- 3.6/12.5 MB 639.0 kB/s eta 0:00:14\n",
      "   ----------- ---------------------------- 3.7/12.5 MB 649.9 kB/s eta 0:00:14\n",
      "   ------------ --------------------------- 3.8/12.5 MB 655.3 kB/s eta 0:00:14\n",
      "   ------------ --------------------------- 3.9/12.5 MB 662.3 kB/s eta 0:00:13\n",
      "   ------------ --------------------------- 3.9/12.5 MB 665.8 kB/s eta 0:00:13\n",
      "   ------------ --------------------------- 3.9/12.5 MB 667.5 kB/s eta 0:00:13\n",
      "   ------------ --------------------------- 4.0/12.5 MB 667.3 kB/s eta 0:00:13\n",
      "   ------------- -------------------------- 4.1/12.5 MB 680.7 kB/s eta 0:00:13\n",
      "   ------------- -------------------------- 4.2/12.5 MB 687.1 kB/s eta 0:00:13\n",
      "   ------------- -------------------------- 4.3/12.5 MB 696.7 kB/s eta 0:00:12\n",
      "   -------------- ------------------------- 4.4/12.5 MB 701.4 kB/s eta 0:00:12\n",
      "   -------------- ------------------------- 4.5/12.5 MB 705.6 kB/s eta 0:00:12\n",
      "   -------------- ------------------------- 4.6/12.5 MB 718.0 kB/s eta 0:00:11\n",
      "   -------------- ------------------------- 4.6/12.5 MB 719.1 kB/s eta 0:00:11\n",
      "   -------------- ------------------------- 4.6/12.5 MB 719.1 kB/s eta 0:00:11\n",
      "   -------------- ------------------------- 4.6/12.5 MB 719.1 kB/s eta 0:00:11\n",
      "   -------------- ------------------------- 4.6/12.5 MB 719.1 kB/s eta 0:00:11\n",
      "   --------------- ------------------------ 5.0/12.5 MB 747.6 kB/s eta 0:00:11\n",
      "   ---------------- ----------------------- 5.1/12.5 MB 757.4 kB/s eta 0:00:10\n",
      "   ---------------- ----------------------- 5.1/12.5 MB 758.7 kB/s eta 0:00:10\n",
      "   ---------------- ----------------------- 5.1/12.5 MB 753.3 kB/s eta 0:00:10\n",
      "   ---------------- ----------------------- 5.1/12.5 MB 753.3 kB/s eta 0:00:10\n",
      "   ---------------- ----------------------- 5.1/12.5 MB 753.3 kB/s eta 0:00:10\n",
      "   ---------------- ----------------------- 5.2/12.5 MB 732.5 kB/s eta 0:00:10\n",
      "   ----------------- ---------------------- 5.4/12.5 MB 759.4 kB/s eta 0:00:10\n",
      "   ----------------- ---------------------- 5.4/12.5 MB 759.4 kB/s eta 0:00:10\n",
      "   ------------------ --------------------- 5.7/12.5 MB 784.6 kB/s eta 0:00:09\n",
      "   ------------------ --------------------- 5.7/12.5 MB 785.8 kB/s eta 0:00:09\n",
      "   ------------------ --------------------- 5.7/12.5 MB 785.8 kB/s eta 0:00:09\n",
      "   ------------------ --------------------- 5.7/12.5 MB 785.8 kB/s eta 0:00:09\n",
      "   ------------------ --------------------- 5.7/12.5 MB 764.1 kB/s eta 0:00:09\n",
      "   ------------------- -------------------- 6.0/12.5 MB 794.8 kB/s eta 0:00:09\n",
      "   ------------------- -------------------- 6.1/12.5 MB 800.5 kB/s eta 0:00:09\n",
      "   ------------------- -------------------- 6.2/12.5 MB 811.4 kB/s eta 0:00:08\n",
      "   -------------------- ------------------- 6.3/12.5 MB 821.5 kB/s eta 0:00:08\n",
      "   -------------------- ------------------- 6.3/12.5 MB 821.5 kB/s eta 0:00:08\n",
      "   -------------------- ------------------- 6.3/12.5 MB 821.5 kB/s eta 0:00:08\n",
      "   -------------------- ------------------- 6.3/12.5 MB 821.5 kB/s eta 0:00:08\n",
      "   --------------------- ------------------ 6.7/12.5 MB 844.5 kB/s eta 0:00:07\n",
      "   ---------------------- ----------------- 6.9/12.5 MB 857.2 kB/s eta 0:00:07\n",
      "   ---------------------- ----------------- 6.9/12.5 MB 859.3 kB/s eta 0:00:07\n",
      "   ---------------------- ----------------- 7.0/12.5 MB 859.4 kB/s eta 0:00:07\n",
      "   ---------------------- ----------------- 7.0/12.5 MB 859.4 kB/s eta 0:00:07\n",
      "   ---------------------- ----------------- 7.0/12.5 MB 859.4 kB/s eta 0:00:07\n",
      "   ----------------------- ---------------- 7.2/12.5 MB 872.9 kB/s eta 0:00:06\n",
      "   ----------------------- ---------------- 7.4/12.5 MB 881.1 kB/s eta 0:00:06\n",
      "   ------------------------ --------------- 7.5/12.5 MB 895.7 kB/s eta 0:00:06\n",
      "   ------------------------ --------------- 7.7/12.5 MB 904.8 kB/s eta 0:00:06\n",
      "   ------------------------ --------------- 7.7/12.5 MB 905.1 kB/s eta 0:00:06\n",
      "   ------------------------ --------------- 7.7/12.5 MB 905.1 kB/s eta 0:00:06\n",
      "   ------------------------ --------------- 7.7/12.5 MB 905.1 kB/s eta 0:00:06\n",
      "   ------------------------ --------------- 7.7/12.5 MB 891.5 kB/s eta 0:00:06\n",
      "   ------------------------- -------------- 7.9/12.5 MB 904.3 kB/s eta 0:00:06\n",
      "   ------------------------- -------------- 8.0/12.5 MB 913.8 kB/s eta 0:00:05\n",
      "   -------------------------- ------------- 8.3/12.5 MB 932.7 kB/s eta 0:00:05\n",
      "   -------------------------- ------------- 8.3/12.5 MB 932.7 kB/s eta 0:00:05\n",
      "   -------------------------- ------------- 8.4/12.5 MB 936.2 kB/s eta 0:00:05\n",
      "   --------------------------- ------------ 8.4/12.5 MB 934.7 kB/s eta 0:00:05\n",
      "   --------------------------- ------------ 8.5/12.5 MB 935.7 kB/s eta 0:00:05\n",
      "   --------------------------- ------------ 8.7/12.5 MB 948.8 kB/s eta 0:00:04\n",
      "   ---------------------------- ----------- 8.9/12.5 MB 959.7 kB/s eta 0:00:04\n",
      "   ----------------------------- ---------- 9.1/12.5 MB 978.5 kB/s eta 0:00:04\n",
      "   ----------------------------- ---------- 9.2/12.5 MB 978.6 kB/s eta 0:00:04\n",
      "   ----------------------------- ---------- 9.3/12.5 MB 989.0 kB/s eta 0:00:04\n",
      "   ------------------------------ --------- 9.5/12.5 MB 1.0 MB/s eta 0:00:03\n",
      "   ------------------------------ --------- 9.6/12.5 MB 1.0 MB/s eta 0:00:03\n",
      "   ------------------------------- -------- 9.8/12.5 MB 1.0 MB/s eta 0:00:03\n",
      "   ------------------------------- -------- 10.0/12.5 MB 1.0 MB/s eta 0:00:03\n",
      "   -------------------------------- ------- 10.2/12.5 MB 1.0 MB/s eta 0:00:03\n",
      "   --------------------------------- ------ 10.4/12.5 MB 1.1 MB/s eta 0:00:02\n",
      "   --------------------------------- ------ 10.6/12.5 MB 1.1 MB/s eta 0:00:02\n",
      "   ---------------------------------- ----- 10.8/12.5 MB 1.2 MB/s eta 0:00:02\n",
      "   ----------------------------------- ---- 10.9/12.5 MB 1.2 MB/s eta 0:00:02\n",
      "   ----------------------------------- ---- 11.0/12.5 MB 1.2 MB/s eta 0:00:02\n",
      "   ------------------------------------ --- 11.3/12.5 MB 1.3 MB/s eta 0:00:01\n",
      "   ------------------------------------- -- 11.6/12.5 MB 1.4 MB/s eta 0:00:01\n",
      "   -------------------------------------- - 11.9/12.5 MB 1.4 MB/s eta 0:00:01\n",
      "   -------------------------------------- - 11.9/12.5 MB 1.4 MB/s eta 0:00:01\n",
      "   -------------------------------------- - 11.9/12.5 MB 1.4 MB/s eta 0:00:01\n",
      "   ---------------------------------------  12.4/12.5 MB 1.5 MB/s eta 0:00:01\n",
      "   ---------------------------------------- 12.5/12.5 MB 1.6 MB/s eta 0:00:00\n",
      "Downloading commonmark-0.9.1-py2.py3-none-any.whl (51 kB)\n",
      "   ---------------------------------------- 0.0/51.1 kB ? eta -:--:--\n",
      "   -------------------------------- ------- 41.0/51.1 kB 1.9 MB/s eta 0:00:01\n",
      "   ---------------------------------------- 51.1/51.1 kB 516.8 kB/s eta 0:00:00\n",
      "Using cached graphql_core-3.2.3-py3-none-any.whl (202 kB)\n",
      "Downloading httpcore-0.16.3-py3-none-any.whl (69 kB)\n",
      "   ---------------------------------------- 0.0/69.6 kB ? eta -:--:--\n",
      "   ----------------------------------- ---- 61.4/69.6 kB ? eta -:--:--\n",
      "   ---------------------------------------- 69.6/69.6 kB 941.6 kB/s eta 0:00:00\n",
      "Downloading jmespath-1.0.1-py3-none-any.whl (20 kB)\n",
      "Downloading marshmallow-3.21.3-py3-none-any.whl (49 kB)\n",
      "   ---------------------------------------- 0.0/49.2 kB ? eta -:--:--\n",
      "   --------------------------------- ------ 41.0/49.2 kB ? eta -:--:--\n",
      "   ---------------------------------------- 49.2/49.2 kB 829.0 kB/s eta 0:00:00\n",
      "Downloading requests_toolbelt-1.0.0-py2.py3-none-any.whl (54 kB)\n",
      "   ---------------------------------------- 0.0/54.5 kB ? eta -:--:--\n",
      "   ------------------------------------- -- 51.2/54.5 kB ? eta -:--:--\n",
      "   ---------------------------------------- 54.5/54.5 kB 567.2 kB/s eta 0:00:00\n",
      "Downloading rfc3986-1.5.0-py2.py3-none-any.whl (31 kB)\n",
      "Downloading s3transfer-0.10.2-py3-none-any.whl (82 kB)\n",
      "   ---------------------------------------- 0.0/82.7 kB ? eta -:--:--\n",
      "   ---------------------------------------- 82.7/82.7 kB 1.5 MB/s eta 0:00:00\n",
      "Downloading typing_inspect-0.9.0-py3-none-any.whl (8.8 kB)\n",
      "Downloading yarl-1.9.4-cp311-cp311-win_amd64.whl (76 kB)\n",
      "   ---------------------------------------- 0.0/76.7 kB ? eta -:--:--\n",
      "   ---------------------------------------- 76.7/76.7 kB 2.1 MB/s eta 0:00:00\n",
      "Downloading gql-3.5.0-py2.py3-none-any.whl (74 kB)\n",
      "   ---------------------------------------- 0.0/74.0 kB ? eta -:--:--\n",
      "   -------------------------------------- - 71.7/74.0 kB ? eta -:--:--\n",
      "   ---------------------------------------- 74.0/74.0 kB 817.4 kB/s eta 0:00:00\n",
      "Downloading multidict-6.0.5-cp311-cp311-win_amd64.whl (28 kB)\n",
      "Using cached mypy_extensions-1.0.0-py3-none-any.whl (4.7 kB)\n",
      "Building wheels for collected packages: fusepy\n",
      "  Building wheel for fusepy (setup.py): started\n",
      "  Building wheel for fusepy (setup.py): finished with status 'done'\n",
      "  Created wheel for fusepy: filename=fusepy-3.0.1-py3-none-any.whl size=10501 sha256=d1772712f44b4f9351869b2cddc14036f9dec4e867837003916c3acf879c18e1\n",
      "  Stored in directory: c:\\users\\k tech\\appdata\\local\\pip\\cache\\wheels\\db\\4a\\86\\fdda91f8b8ebb0a70e4181dc2423b1f70c3c2d3bd1158685b5\n",
      "Successfully built fusepy\n",
      "Installing collected packages: rfc3986, fusepy, commonmark, appdirs, treelib, tenacity, rich, pathvalidate, mypy-extensions, multidict, marshmallow, jmespath, graphql-core, dacite, backoff, yarl, typing-inspect, requests-toolbelt, httpcore, botocore, s3transfer, httpx, gql, dataclasses-json, boto3, dagshub\n",
      "  Attempting uninstall: httpcore\n",
      "    Found existing installation: httpcore 1.0.5\n",
      "    Uninstalling httpcore-1.0.5:\n",
      "      Successfully uninstalled httpcore-1.0.5\n",
      "  Attempting uninstall: httpx\n",
      "    Found existing installation: httpx 0.27.0\n",
      "    Uninstalling httpx-0.27.0:\n",
      "      Successfully uninstalled httpx-0.27.0\n",
      "Successfully installed appdirs-1.4.4 backoff-2.2.1 boto3-1.35.0 botocore-1.35.0 commonmark-0.9.1 dacite-1.6.0 dagshub-0.3.34 dataclasses-json-0.6.7 fusepy-3.0.1 gql-3.5.0 graphql-core-3.2.3 httpcore-0.16.3 httpx-0.23.3 jmespath-1.0.1 marshmallow-3.21.3 multidict-6.0.5 mypy-extensions-1.0.0 pathvalidate-3.0.0 requests-toolbelt-1.0.0 rfc3986-1.5.0 rich-13.1.0 s3transfer-0.10.2 tenacity-8.2.3 treelib-1.6.4 typing-inspect-0.9.0 yarl-1.9.4\n"
     ]
    },
    {
     "name": "stderr",
     "output_type": "stream",
     "text": [
      "ERROR: pip's dependency resolver does not currently take into account all the packages that are installed. This behaviour is the source of the following dependency conflicts.\n",
      "jupyterlab 4.2.4 requires httpx>=0.25.0, but you have httpx 0.23.3 which is incompatible.\n"
     ]
    }
   ],
   "source": [
    "#!pip install dagshub"
   ]
  },
  {
   "cell_type": "code",
   "execution_count": 15,
   "metadata": {},
   "outputs": [
    {
     "data": {
      "text/html": [
       "<pre style=\"white-space:pre;overflow-x:auto;line-height:normal;font-family:Menlo,'DejaVu Sans Mono',consolas,'Courier New',monospace\">                                       <span style=\"font-weight: bold\">❗❗❗ AUTHORIZATION REQUIRED ❗❗❗</span>                                        \n",
       "</pre>\n"
      ],
      "text/plain": [
       "                                       \u001b[1m❗❗❗ AUTHORIZATION REQUIRED ❗❗❗\u001b[0m                                        \n"
      ]
     },
     "metadata": {},
     "output_type": "display_data"
    },
    {
     "data": {
      "text/html": [
       "<pre style=\"white-space:pre;overflow-x:auto;line-height:normal;font-family:Menlo,'DejaVu Sans Mono',consolas,'Courier New',monospace\">c:\\End To End AI Project\\End-to-end-Machine-Learning-project-with-mlflow\\.conda\\Lib\\site-packages\\rich\\live.py:229:\n",
       "UserWarning: install \"ipywidgets\" for Jupyter support\n",
       "  warnings.warn('install \"ipywidgets\" for Jupyter support')\n",
       "</pre>\n"
      ],
      "text/plain": [
       "c:\\End To End AI Project\\End-to-end-Machine-Learning-project-with-mlflow\\.conda\\Lib\\site-packages\\rich\\live.py:229:\n",
       "UserWarning: install \"ipywidgets\" for Jupyter support\n",
       "  warnings.warn('install \"ipywidgets\" for Jupyter support')\n"
      ]
     },
     "metadata": {},
     "output_type": "display_data"
    },
    {
     "name": "stdout",
     "output_type": "stream",
     "text": [
      "\n",
      "\n",
      "Open the following link in your browser to authorize the client:\n",
      "https://dagshub.com/login/oauth/authorize?state=5a03062e-e075-43e9-8f2f-7f0f9b23ef97&client_id=32b60ba385aa7cecf24046d8195a71c07dd345d9657977863b52e7748e0f0f28&middleman_request_id=a8b9d0b0c255d6337b0540fdac3c10be9de8b7294bbab2e47ab0473071486492\n",
      "\n",
      "\n"
     ]
    },
    {
     "data": {
      "text/html": [
       "<pre style=\"white-space:pre;overflow-x:auto;line-height:normal;font-family:Menlo,'DejaVu Sans Mono',consolas,'Courier New',monospace\"></pre>\n"
      ],
      "text/plain": []
     },
     "metadata": {},
     "output_type": "display_data"
    },
    {
     "data": {
      "text/html": [
       "<pre style=\"white-space:pre;overflow-x:auto;line-height:normal;font-family:Menlo,'DejaVu Sans Mono',consolas,'Courier New',monospace\">Accessing as arsalanazhar2003\n",
       "</pre>\n"
      ],
      "text/plain": [
       "Accessing as arsalanazhar2003\n"
      ]
     },
     "metadata": {},
     "output_type": "display_data"
    },
    {
     "name": "stdout",
     "output_type": "stream",
     "text": [
      "[2024-08-18 10:27:21,408: INFO: helpers: Accessing as arsalanazhar2003]\n"
     ]
    },
    {
     "data": {
      "text/html": [
       "<pre style=\"white-space:pre;overflow-x:auto;line-height:normal;font-family:Menlo,'DejaVu Sans Mono',consolas,'Courier New',monospace\">Initialized MLflow to track repo <span style=\"color: #008000; text-decoration-color: #008000\">\"arsalanazhar2003/End-to-end-Machine-Learning-project-with-mlflow\"</span>\n",
       "</pre>\n"
      ],
      "text/plain": [
       "Initialized MLflow to track repo \u001b[32m\"arsalanazhar2003/End-to-end-Machine-Learning-project-with-mlflow\"\u001b[0m\n"
      ]
     },
     "metadata": {},
     "output_type": "display_data"
    },
    {
     "name": "stdout",
     "output_type": "stream",
     "text": [
      "[2024-08-18 10:27:23,530: INFO: helpers: Initialized MLflow to track repo \"arsalanazhar2003/End-to-end-Machine-Learning-project-with-mlflow\"]\n"
     ]
    },
    {
     "data": {
      "text/html": [
       "<pre style=\"white-space:pre;overflow-x:auto;line-height:normal;font-family:Menlo,'DejaVu Sans Mono',consolas,'Courier New',monospace\">Repository arsalanazhar2003/End-to-end-Machine-Learning-project-with-mlflow initialized!\n",
       "</pre>\n"
      ],
      "text/plain": [
       "Repository arsalanazhar2003/End-to-end-Machine-Learning-project-with-mlflow initialized!\n"
      ]
     },
     "metadata": {},
     "output_type": "display_data"
    },
    {
     "name": "stdout",
     "output_type": "stream",
     "text": [
      "[2024-08-18 10:27:23,552: INFO: helpers: Repository arsalanazhar2003/End-to-end-Machine-Learning-project-with-mlflow initialized!]\n",
      "[2024-08-18 10:27:23,892: WARNING: connectionpool: Retrying (Retry(total=4, connect=5, read=4, redirect=5, status=5)) after connection broken by 'RemoteDisconnected('Remote end closed connection without response')': /arsalanazhar2003/End-to-end-Machine-Learning-project-with-mlflow.mlflow/api/2.0/mlflow/runs/create]\n"
     ]
    }
   ],
   "source": [
    "import dagshub\n",
    "dagshub.init(repo_owner='arsalanazhar2003', repo_name='End-to-end-Machine-Learning-project-with-mlflow', mlflow=True)\n",
    "\n",
    "import mlflow\n",
    "with mlflow.start_run():\n",
    "  mlflow.log_param('parameter name', 'value')\n",
    "  mlflow.log_metric('metric name', 1)"
   ]
  },
  {
   "cell_type": "code",
   "execution_count": null,
   "metadata": {},
   "outputs": [],
   "source": []
  }
 ],
 "metadata": {
  "kernelspec": {
   "display_name": "Python 3",
   "language": "python",
   "name": "python3"
  },
  "language_info": {
   "codemirror_mode": {
    "name": "ipython",
    "version": 3
   },
   "file_extension": ".py",
   "mimetype": "text/x-python",
   "name": "python",
   "nbconvert_exporter": "python",
   "pygments_lexer": "ipython3",
   "version": "3.11.9"
  }
 },
 "nbformat": 4,
 "nbformat_minor": 2
}
